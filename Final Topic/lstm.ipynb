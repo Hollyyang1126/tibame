{
  "nbformat": 4,
  "nbformat_minor": 0,
  "metadata": {
    "accelerator": "GPU",
    "colab": {
      "name": "lstm.ipynb",
      "provenance": [],
      "collapsed_sections": [],
      "toc_visible": true
    },
    "kernelspec": {
      "display_name": "Python 3",
      "language": "python",
      "name": "python3"
    },
    "language_info": {
      "codemirror_mode": {
        "name": "ipython",
        "version": 3
      },
      "file_extension": ".py",
      "mimetype": "text/x-python",
      "name": "python",
      "nbconvert_exporter": "python",
      "pygments_lexer": "ipython3",
      "version": "3.7.5"
    }
  },
  "cells": [
    {
      "cell_type": "code",
      "metadata": {
        "colab_type": "code",
        "id": "pmDdFPgRzhf-",
        "colab": {}
      },
      "source": [
        "import pickle\n",
        "import numpy as np\n",
        "import pandas as pd\n",
        "from tensorflow.keras.utils import plot_model\n",
        "from tensorflow.keras.models import Sequential\n",
        "from tensorflow.keras.preprocessing.sequence import pad_sequences\n",
        "from tensorflow.keras.layers import LSTM, Dense, Embedding, Dropout\n",
        "from sklearn.model_selection import train_test_split\n",
        "from sklearn.metrics import accuracy_score\n",
        "from tensorflow.keras.preprocessing.text import Tokenizer\n",
        "from tensorflow.keras.preprocessing.sequence import pad_sequences\n",
        "from tensorflow.keras.callbacks import ModelCheckpoint\n",
        "from tensorflow.keras.callbacks import EarlyStopping, ModelCheckpoint\n",
        "from tensorflow.keras.losses import SparseCategoricalCrossentropy"
      ],
      "execution_count": 0,
      "outputs": []
    },
    {
      "cell_type": "code",
      "metadata": {
        "colab_type": "code",
        "id": "ugHcYbBp-UFI",
        "colab": {}
      },
      "source": [
        "# p = pd.read_csv(\"drive/My Drive/pos_final.csv\")\n",
        "# p[\"tag\"] = 1\n",
        "# n = pd.read_csv(\"drive/My Drive/neg_final.csv\")\n",
        "# n[\"tag\"] = 0\n",
        "\n",
        "# dp = pd.DataFrame(p[\"content\"].astype(str))\n",
        "# dn = pd.DataFrame(n[\"content\"].astype(str))\n",
        "\n",
        "# x_p = dp[\"content\"]\n",
        "# x_n = dn[\"content\"]\n",
        "\n",
        "# y_p = p[\"tag\"]\n",
        "# y_n = n[\"tag\"]   \n",
        "\n",
        "# x = pd.concat([x_p, x_n])\n",
        "# y = pd.concat([y_p, y_n])\n",
        "\n",
        "# labels = list(y.unique())\n",
        "# labels"
      ],
      "execution_count": 0,
      "outputs": []
    },
    {
      "cell_type": "code",
      "metadata": {
        "colab_type": "code",
        "id": "iAg3sPmQz6ut",
        "colab": {}
      },
      "source": [
        "  # 出現太少的詞，你可以選擇不看，只留出現次數最高的2000(num_words)\n",
        "  # tok = Tokenizer(num_words=20000)\n",
        "  # tok.fit_on_texts(x)\n",
        "\n",
        "  # x = tok.texts_to_sequences(x)\n",
        "  # x_pad = pad_sequences(x, maxlen=128)\n",
        "  # y = np.array(y)"
      ],
      "execution_count": 0,
      "outputs": []
    },
    {
      "cell_type": "code",
      "metadata": {
        "colab_type": "code",
        "id": "aSSauwrZ4Nc4",
        "colab": {}
      },
      "source": [
        "# x_pad.shape[1]"
      ],
      "execution_count": 0,
      "outputs": []
    },
    {
      "cell_type": "code",
      "metadata": {
        "colab_type": "code",
        "id": "vSVUzmz9zoE0",
        "colab": {}
      },
      "source": [
        "# 匯入資料\n",
        "# 檔案的資料中，特徵為content, 類別為label.\n",
        "def load_data():\n",
        "    # df = pd.read_csv(filepath)\n",
        "\n",
        "    p = pd.read_table(\"pos_chi.txt\")\n",
        "    p[\"tag\"] = 1\n",
        "    n = pd.read_table(\"neg_chi.txt\")\n",
        "    n[\"tag\"] = 0\n",
        "\n",
        "    dp = pd.DataFrame(p[\"content\"].astype(str)) # .astype是我的檔案問題加的，若發生錯誤可刪\n",
        "    dn = pd.DataFrame(n[\"content\"].astype(str))\n",
        "\n",
        "    x_p = dp[\"content\"]\n",
        "    x_n = dn[\"content\"]\n",
        "\n",
        "    y_p = p[\"tag\"]\n",
        "    y_n = n[\"tag\"]   \n",
        "\n",
        "    x = pd.concat([x_p, x_n])\n",
        "    y = pd.concat([y_p, y_n])\n",
        "    \n",
        "    # labels = list(y.unique())\n",
        "    \n",
        "    label_dictionary = {'正面': 1, '負面': 0}\n",
        "    with open('lstm_label_dict.pk', 'wb') as f:\n",
        "        pickle.dump(label_dictionary, f)\n",
        "    # ------------------------------------------------------------------------\n",
        "    # 預處理 1. 先把文字化成數字    \n",
        "    # 出現太少的詞，你可以選擇不看，只留出現次數最高的20000(num_words)，可調整\n",
        "    tok = Tokenizer(num_words=20000)\n",
        "    tok.fit_on_texts(x)\n",
        "\n",
        "    x = tok.texts_to_sequences(x)\n",
        "    x_pad = pad_sequences(x, maxlen=128) # 評論長度自己抓\n",
        "    y = np.array(y)\n",
        "    # print(x_pad)\n",
        "    # print(len(x_pad))\n",
        "    # print(y)\n",
        "    # print(len(y))\n",
        "\n",
        "    # Saving Dictionary，此份字典，在我們訓練好並載入模組使用時，輸入端需要用同樣的字典將文字轉成數字\n",
        "    with open('tokenizer.pk', 'wb') as handle:\n",
        "      pickle.dump(tok, handle, protocol=pickle.HIGHEST_PROTOCOL)\n",
        "\n",
        "    return x_pad, y"
      ],
      "execution_count": 0,
      "outputs": []
    },
    {
      "cell_type": "code",
      "metadata": {
        "colab_type": "code",
        "id": "1yuzZqpx0d-y",
        "colab": {}
      },
      "source": [
        "# 建立深度學習模型， Embedding + LSTM + Softmax.\n",
        "def create_LSTM(n_units, input_shape, output_dim):\n",
        "    x, y = load_data()\n",
        "    model = Sequential()\n",
        "    model.add(Embedding(input_dim=20001, output_dim=output_dim,\n",
        "                        input_length=input_shape, mask_zero=True))\n",
        "    model.add(LSTM(n_units)) # https://www.zhihu.com/question/41949741，LSTM參數介紹，看不懂就去睡覺吧\n",
        "    model.add(Dropout(0.2))\n",
        "    model.add(Dense(2, activation='softmax'))\n",
        "    model.compile(loss=SparseCategoricalCrossentropy(), optimizer='adam', metrics=['accuracy'])\n",
        "\n",
        "    plot_model(model, to_file='model_lstm.png', show_shapes=True)\n",
        "    model.summary()\n",
        "\n",
        "    return model"
      ],
      "execution_count": 0,
      "outputs": []
    },
    {
      "cell_type": "code",
      "metadata": {
        "colab_type": "code",
        "id": "tLe2hIhL0gVM",
        "colab": {}
      },
      "source": [
        "# 模型訓練\n",
        "def model_train(input_shape, filepath, model_save_path):\n",
        "\n",
        "    # 將資料集分為訓練集和測試集，佔比為9:1\n",
        "    # input_shape = 100\n",
        "    x, y = load_data()\n",
        "    train_x, test_x, train_y, test_y = train_test_split(x, y, test_size = 0.1, random_state = 42)\n",
        "\n",
        "    # 模型輸入引數，需要自己根據需要調整\n",
        "    n_units = 256\n",
        "    batch_size = 256\n",
        "    epochs = 100\n",
        "    output_dim = 128\n",
        "\n",
        "    # 模型訓練\n",
        "    lstm_model = create_LSTM(n_units, input_shape, output_dim)\n",
        "\n",
        "    callbacks = [\n",
        "        EarlyStopping(patience=3, restore_best_weights=True),\n",
        "    #     ModelCheckpoint(\"nlp.h5\", save_best_only=True)\n",
        "    ]\n",
        "\n",
        "    lstm_model.fit(train_x, \n",
        "                   train_y, \n",
        "                   epochs=epochs, \n",
        "                   batch_size=batch_size, \n",
        "                   verbose=1,\n",
        "                   validation_split=0.1,\n",
        "                   callbacks=callbacks)\n",
        "\n",
        "    # 模型儲存\n",
        "    lstm_model.save(model_save_path)\n",
        "\n",
        "    result = lstm_model.evaluate(test_x, test_y)\n",
        "    print(\"測試集結果為:\", result[1])\n",
        "    "
      ],
      "execution_count": 0,
      "outputs": []
    },
    {
      "cell_type": "code",
      "metadata": {
        "colab_type": "code",
        "id": "SKxDJezV0mxM",
        "outputId": "caa4200f-43e5-45b4-ab15-d7e430fe7bea",
        "colab": {
          "base_uri": "https://localhost:8080/",
          "height": 550
        }
      },
      "source": [
        "if __name__ == '__main__':\n",
        "    filepath = \"\"\n",
        "    input_shape = 128\n",
        "    model_save_path = 'lstm_model.h5'\n",
        "    model_train(input_shape, filepath, model_save_path)"
      ],
      "execution_count": 8,
      "outputs": [
        {
          "output_type": "stream",
          "text": [
            "Model: \"sequential\"\n",
            "_________________________________________________________________\n",
            "Layer (type)                 Output Shape              Param #   \n",
            "=================================================================\n",
            "embedding (Embedding)        (None, 128, 128)          2560128   \n",
            "_________________________________________________________________\n",
            "lstm (LSTM)                  (None, 256)               394240    \n",
            "_________________________________________________________________\n",
            "dropout (Dropout)            (None, 256)               0         \n",
            "_________________________________________________________________\n",
            "dense (Dense)                (None, 2)                 514       \n",
            "=================================================================\n",
            "Total params: 2,954,882\n",
            "Trainable params: 2,954,882\n",
            "Non-trainable params: 0\n",
            "_________________________________________________________________\n",
            "Epoch 1/100\n",
            "871/871 [==============================] - 408s 468ms/step - loss: 0.5050 - accuracy: 0.8258 - val_loss: 0.4184 - val_accuracy: 0.8460\n",
            "Epoch 2/100\n",
            "871/871 [==============================] - 400s 459ms/step - loss: 0.3892 - accuracy: 0.8542 - val_loss: 0.3978 - val_accuracy: 0.8477\n",
            "Epoch 3/100\n",
            "871/871 [==============================] - 396s 455ms/step - loss: 0.3785 - accuracy: 0.8564 - val_loss: 0.3966 - val_accuracy: 0.8478\n",
            "Epoch 4/100\n",
            "871/871 [==============================] - 395s 454ms/step - loss: 0.3744 - accuracy: 0.8572 - val_loss: 0.4000 - val_accuracy: 0.8481\n",
            "Epoch 5/100\n",
            "871/871 [==============================] - 396s 455ms/step - loss: 0.3722 - accuracy: 0.8579 - val_loss: 0.3993 - val_accuracy: 0.8474\n",
            "Epoch 6/100\n",
            "871/871 [==============================] - 395s 454ms/step - loss: 0.3708 - accuracy: 0.8583 - val_loss: 0.4023 - val_accuracy: 0.8478\n",
            "860/860 [==============================] - 29s 34ms/step - loss: 0.4032 - accuracy: 0.8454\n",
            "測試集結果為: 0.845399022102356\n"
          ],
          "name": "stdout"
        }
      ]
    },
    {
      "cell_type": "code",
      "metadata": {
        "colab_type": "code",
        "id": "VEIQHZJiP0g_",
        "colab": {}
      },
      "source": [
        ""
      ],
      "execution_count": 0,
      "outputs": []
    }
  ]
}